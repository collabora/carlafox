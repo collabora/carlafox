{
 "cells": [
  {
   "cell_type": "markdown",
   "metadata": {},
   "source": [
    "# Welcome to the CARLA🚖&nbsp;&nbsp;💜&nbsp;&nbsp;ROS🦾&nbsp;&nbsp;💜&nbsp;&nbsp;Foxglove📊 demo\n",
    "\n",
    "This demo showcases the capabilities of the CARLA automotive simulator and it's\n",
    "integration with the Foxglove Studio via the CARLA ros-bridge."
   ]
  },
  {
   "cell_type": "code",
   "execution_count": null,
   "metadata": {
    "vscode": {
     "languageId": "python"
    }
   },
   "outputs": [],
   "source": [
    "from IPython.display import HTML, display\n",
    "import ipywidgets as widgets\n",
    "\n",
    "carla_status = widgets.Output()\n",
    "carla_status.layout = widgets.Layout(border= '4px solid gray');\n",
    "carla_status.clear_output(wait=True)\n",
    "with carla_status:\n",
    "    print(\"CARLA Server status: ?\")\n",
    "\n",
    "display(carla_status)"
   ]
  },
  {
   "cell_type": "code",
   "execution_count": null,
   "metadata": {
    "vscode": {
     "languageId": "python"
    }
   },
   "outputs": [
    {
     "data": {
      "text/html": [
       "\n",
       "<style>\n",
       "/* CSS */\n",
       ".button-63 {\n",
       "  display: inline-block;\n",
       "  align-items: center;\n",
       "  background-image: linear-gradient(144deg,#AF40FF, #5B42F3 50%,#00DDEB);\n",
       "  border: 0;\n",
       "  border-radius: 8px;\n",
       "  box-shadow: rgba(151, 65, 252, 0.2) 0 15px 30px -5px;\n",
       "  box-sizing: border-box;\n",
       "  color: #FFFFFF;\n",
       "  font-family: Phantomsans, sans-serif;\n",
       "  font-size: 20px;\n",
       "  justify-content: center;\n",
       "  line-height: 1em;\n",
       "  max-width: 100%;\n",
       "  min-width: 140px;\n",
       "  padding: 19px 24px;\n",
       "  text-decoration: none !important;\n",
       "  user-select: none;\n",
       "  -webkit-user-select: none;\n",
       "  touch-action: manipulation;\n",
       "  white-space: nowrap;\n",
       "  cursor: pointer;\n",
       "  margin: 5px;\n",
       "  width: 400px;\n",
       "  text-align: left;\n",
       "}\n",
       "\n",
       ".button-63:hover {\n",
       "  color: #9c9;\n",
       "}\n",
       "</style>\n",
       "<script>\n",
       "    code_shown = true;\n",
       "    function run_all(){\n",
       "        IPython.notebook.execute_all_cells();\n",
       "    }\n",
       "    function code_toggle() {\n",
       "        if (code_shown) {\n",
       "            $('div.input').hide(200);\n",
       "        } else {\n",
       "            $('div.input').show(200);\n",
       "        }\n",
       "        code_shown = !code_shown\n",
       "    }\n",
       "    // do not auto-hide on cell rerun if the user clicked the toggle button at least once\n",
       "    if(!window.interaction) setTimeout(code_toggle, 0);\n",
       "</script>\n",
       "<button class=\"button-63\" onclick=\"run_all()\">A. Setup the ego-vehicle</button><br />\n",
       "<a class=\"button-63\" href=\"/foxglove?ds=rosbridge-websocket&ds.url=ws%3A%2F%2Flocalhost%3A8080%2Fros-bridge&layoutURL=foxglove_layout.json\" target=\"_blank\">B. Open Foxglove Studio</a><br />\n",
       "<button class=\"button-63\" onclick=\"window.interaction=true; code_toggle()\">C. Toggle the source code</button><br />\n"
      ],
      "text/plain": [
       "<IPython.core.display.HTML object>"
      ]
     },
     "metadata": {},
     "output_type": "display_data"
    }
   ],
   "source": [
    "#keep-output\n",
    "display(HTML('''\n",
    "<style>\n",
    "/* CSS */\n",
    ".button-63 {\n",
    "  display: inline-block;\n",
    "  align-items: center;\n",
    "  background-image: linear-gradient(144deg,#AF40FF, #5B42F3 50%,#00DDEB);\n",
    "  border: 0;\n",
    "  border-radius: 8px;\n",
    "  box-shadow: rgba(151, 65, 252, 0.2) 0 15px 30px -5px;\n",
    "  box-sizing: border-box;\n",
    "  color: #FFFFFF;\n",
    "  font-family: Phantomsans, sans-serif;\n",
    "  font-size: 20px;\n",
    "  justify-content: center;\n",
    "  line-height: 1em;\n",
    "  max-width: 100%;\n",
    "  min-width: 140px;\n",
    "  padding: 19px 24px;\n",
    "  text-decoration: none !important;\n",
    "  user-select: none;\n",
    "  -webkit-user-select: none;\n",
    "  touch-action: manipulation;\n",
    "  white-space: nowrap;\n",
    "  cursor: pointer;\n",
    "  margin: 5px;\n",
    "  width: 400px;\n",
    "  text-align: left;\n",
    "}\n",
    "\n",
    ".button-63:hover {\n",
    "  color: #9c9;\n",
    "}\n",
    "</style>\n",
    "<script>\n",
    "    code_shown = true;\n",
    "    function run_all(){\n",
    "        IPython.notebook.execute_all_cells();\n",
    "    }\n",
    "    function code_toggle() {\n",
    "        if (code_shown) {\n",
    "            $('div.input').hide(200);\n",
    "        } else {\n",
    "            $('div.input').show(200);\n",
    "        }\n",
    "        code_shown = !code_shown\n",
    "    }\n",
    "    // do not auto-hide on cell rerun if the user clicked the toggle button at least once\n",
    "    if(!window.interaction) setTimeout(code_toggle, 0);\n",
    "</script>\n",
    "<button class=\"button-63\" onclick=\"run_all()\">A. Setup the ego-vehicle</button><br />\n",
    "<a class=\"button-63\" href=\"/foxglove?ds=rosbridge-websocket&ds.url=ws%3A%2F%2Flocalhost%3A8080%2Fros-bridge&layoutURL=foxglove_layout.json\" target=\"_blank\">B. Open Foxglove Studio</a><br />\n",
    "<button class=\"button-63\" onclick=\"window.interaction=true; code_toggle()\">C. Toggle the source code</button><br />\n",
    "'''))"
   ]
  },
  {
   "cell_type": "code",
   "execution_count": null,
   "metadata": {
    "vscode": {
     "languageId": "python"
    }
   },
   "outputs": [],
   "source": [
    "import os\n",
    "import carla\n",
    "import random\n",
    "import time"
   ]
  },
  {
   "cell_type": "code",
   "execution_count": null,
   "metadata": {
    "vscode": {
     "languageId": "python"
    }
   },
   "outputs": [],
   "source": [
    "# Create config\n",
    "config = {\n",
    "    \"ros_bridge_sync_mode\": True,      # True if using ros bridge in sync mode otherwise False, start ros with passive:=True when this is False\n",
    "    \"traffic_simulation\": False        # True if you want simulate traffic(npcs)\n",
    "}"
   ]
  },
  {
   "cell_type": "code",
   "execution_count": null,
   "metadata": {
    "vscode": {
     "languageId": "python"
    }
   },
   "outputs": [],
   "source": [
    "# Connect client to CARLA server.\n",
    "start = time.time()\n",
    "while True:\n",
    "    # Retry until the CARLA server is ready\n",
    "    try:\n",
    "        print(\"Waiting for CARLA\")\n",
    "        client = carla.Client(os.environ.get('CARLA_HOSTNAME', 'carla'), 2000)\n",
    "        client.set_timeout(1.0)\n",
    "        world = client.get_world()\n",
    "        client.set_timeout(10.0)\n",
    "        break\n",
    "    except:\n",
    "        time.sleep(5)\n",
    "print(f\"Connection established in {time.time()-start} seconds.\")"
   ]
  },
  {
   "cell_type": "code",
   "execution_count": null,
   "metadata": {
    "vscode": {
     "languageId": "python"
    }
   },
   "outputs": [],
   "source": [
    "# Setting synchronous mode\n",
    "settings = world.get_settings()\n",
    "settings.synchronous_mode = True # Enables synchronous mode\n",
    "settings.fixed_delta_seconds = 0.05\n",
    "world.apply_settings(settings);"
   ]
  },
  {
   "cell_type": "code",
   "execution_count": null,
   "metadata": {
    "vscode": {
     "languageId": "python"
    }
   },
   "outputs": [],
   "source": [
    "ego_vehicle_role_name = [f\"hero{i}\" for i in range(20)]\n",
    "\n",
    "# add default role name\n",
    "ego_vehicle_role_name.append(\"ego_vehicle\")\n",
    "\n",
    "def validate_rolename(role_name):\n",
    "    available_rolenames = ego_vehicle_role_name.copy()\n",
    "    actors = world.get_actors().filter('vehicle.*')\n",
    "    for actor in actors:\n",
    "        if actor.attributes['role_name'] in available_rolenames:\n",
    "            available_rolenames.remove(actor.attributes['role_name'])\n",
    "    \n",
    "    # all role names are taken\n",
    "    if not len(available_rolenames):\n",
    "        return None\n",
    "    if role_name not in available_rolenames:\n",
    "        role_name = random.choice(available_rolenames)\n",
    "    return role_name"
   ]
  },
  {
   "cell_type": "code",
   "execution_count": null,
   "metadata": {
    "vscode": {
     "languageId": "python"
    }
   },
   "outputs": [],
   "source": [
    "# Spawn an ego-vehicle randomly.\n",
    "spawn_points = world.get_map().get_spawn_points()\n",
    "blueprints_vehicle = world.get_blueprint_library().find(\"vehicle.tesla.model3\")\n",
    "ego_transform = spawn_points[random.randint(0, len(spawn_points) - 1)]"
   ]
  },
  {
   "cell_type": "code",
   "execution_count": null,
   "metadata": {
    "vscode": {
     "languageId": "python"
    }
   },
   "outputs": [],
   "source": [
    "# Let CarlaViz know this vehicle is the ego vehicle.\n",
    "# Vehicles controlled by the user are commonly differenciated\n",
    "# in CARLA by setting the attribute role_name to ego.\n",
    "role_name = 'ego_vehicle'\n",
    "role_name = validate_rolename(role_name)\n",
    "if role_name == None:\n",
    "    raise Exception(\"All available role names already exist in the simulation.\")\n",
    "print(f\"Validated role_name: {role_name}\")\n",
    "blueprints_vehicle.set_attribute('role_name', role_name)\n",
    "\n",
    "\n",
    "# Spawn ego vehicle at a randomly selected spawn point and set\n",
    "# autopilot to True. This will register the vehicle to the Traffic\n",
    "# Manager. It will roam around the city endlessly.\n",
    "batch = [carla.command.SpawnActor(blueprints_vehicle, ego_transform).then(carla.command.SetAutopilot(carla.command.FutureActor, True))]\n",
    "results = client.apply_batch_sync(batch, True)\n",
    "if not results[0].error:\n",
    "    ego_vehicle = world.get_actor(results[0].actor_id)"
   ]
  },
  {
   "cell_type": "code",
   "execution_count": null,
   "metadata": {
    "vscode": {
     "languageId": "python"
    }
   },
   "outputs": [],
   "source": [
    "# attach rgb camera to ego vehicle\n",
    "blueprint_camera = world.get_blueprint_library().find('sensor.camera.rgb')\n",
    "blueprint_camera.set_attribute('role_name', 'rgb_front')\n",
    "blueprint_camera.set_attribute('image_size_x', '800')\n",
    "blueprint_camera.set_attribute('image_size_y', '600')\n",
    "blueprint_camera.set_attribute('fov', '90')\n",
    "transform_camera_front = carla.Transform(carla.Location(x=2.0, y=+0, z=2.0), carla.Rotation(pitch=0.0, yaw=0.0, roll=0.0))\n",
    "camera_front = world.spawn_actor(blueprint_camera, transform_camera_front, attach_to=ego_vehicle)\n",
    "\n",
    "\n",
    "# attach rgb camera to ego vehicle\n",
    "blueprint_camera = world.get_blueprint_library().find('sensor.camera.rgb')\n",
    "blueprint_camera.set_attribute('role_name', 'rgb_view')\n",
    "blueprint_camera.set_attribute('image_size_x', '800')\n",
    "blueprint_camera.set_attribute('image_size_y', '600')\n",
    "blueprint_camera.set_attribute('fov', '90')\n",
    "transform_camera_third = carla.Transform(carla.Location(x=-10, y=+0, z=2.4), carla.Rotation(pitch=20.0, yaw=0.0, roll=0.0))\n",
    "camera_third = world.spawn_actor(blueprint_camera, transform_camera_third, attach_to=ego_vehicle)\n",
    "\n",
    "# gnss\n",
    "blueprint_gnss = world.get_blueprint_library().find('sensor.other.gnss')\n",
    "blueprint_gnss.set_attribute('role_name', 'gnss')\n",
    "transform_gnss = carla.Transform(carla.Location(x=2.0, y=+0, z=2.0), carla.Rotation(pitch=0.0, yaw=0.0, roll=0.0))\n",
    "gnss = world.spawn_actor(blueprint_gnss, transform_gnss, attach_to=ego_vehicle)\n",
    "\n",
    "# imu\n",
    "blueprint_imu = world.get_blueprint_library().find('sensor.other.imu')\n",
    "blueprint_imu.set_attribute('role_name', 'imu')\n",
    "transform_imu = carla.Transform(carla.Location(x=1.0, y=+0, z=2.0), carla.Rotation(pitch=0.0, yaw=0.0, roll=0.0))\n",
    "imu = world.spawn_actor(blueprint_imu, transform_imu, attach_to=ego_vehicle)\n"
   ]
  },
  {
   "cell_type": "code",
   "execution_count": null,
   "metadata": {
    "vscode": {
     "languageId": "python"
    }
   },
   "outputs": [],
   "source": [
    "# Attach a lidar to the ego vehicle.\n",
    "blueprint_lidar = world.get_blueprint_library().find('sensor.lidar.ray_cast')\n",
    "blueprint_lidar.set_attribute('role_name', 'lidar')\n",
    "blueprint_lidar.set_attribute('range', '50')\n",
    "blueprint_lidar.set_attribute('rotation_frequency', '20')\n",
    "blueprint_lidar.set_attribute('channels', '32')\n",
    "blueprint_lidar.set_attribute('lower_fov', '-26.8')\n",
    "blueprint_lidar.set_attribute('upper_fov', '2.0')\n",
    "blueprint_lidar.set_attribute('points_per_second', '320000')\n",
    "blueprint_lidar.set_attribute('noise_stddev', '0.0')\n",
    "transform_lidar = carla.Transform(carla.Location(x=0.0, y=0.0, z=2.4))\n",
    "lidar = world.spawn_actor(blueprint_lidar, transform_lidar, attach_to=ego_vehicle)"
   ]
  },
  {
   "cell_type": "code",
   "execution_count": null,
   "metadata": {
    "vscode": {
     "languageId": "python"
    }
   },
   "outputs": [],
   "source": [
    "# Attach Semantic LiDAR to the ego vehicle.\n",
    "blueprint_semantic_lidar = world.get_blueprint_library().find('sensor.lidar.ray_cast_semantic')\n",
    "blueprint_semantic_lidar.set_attribute('role_name', 'semantic_lidar')\n",
    "blueprint_semantic_lidar.set_attribute('range', '50')\n",
    "blueprint_semantic_lidar.set_attribute('rotation_frequency', '20')\n",
    "blueprint_semantic_lidar.set_attribute('channels', '32')\n",
    "blueprint_semantic_lidar.set_attribute('lower_fov', '-26.8')\n",
    "blueprint_semantic_lidar.set_attribute('upper_fov', '2.0')\n",
    "blueprint_semantic_lidar.set_attribute('points_per_second', '320000')\n",
    "transform_semantic_lidar = carla.Transform(carla.Location(x=0.0, y=0.0, z=2.4))\n",
    "semantic_lidar = world.spawn_actor(blueprint_semantic_lidar, transform_semantic_lidar, attach_to=ego_vehicle)"
   ]
  },
  {
   "cell_type": "code",
   "execution_count": null,
   "metadata": {
    "vscode": {
     "languageId": "python"
    }
   },
   "outputs": [],
   "source": [
    "# Attach radar sensor to the ego vehicle.\n",
    "blueprint_radar = world.get_blueprint_library().find('sensor.other.radar')\n",
    "blueprint_radar.set_attribute('role_name', 'radar_front')\n",
    "blueprint_radar.set_attribute('horizontal_fov', '30.0')\n",
    "blueprint_radar.set_attribute('vertical_fov', '10.0')\n",
    "blueprint_radar.set_attribute('range', '100.0')\n",
    "blueprint_radar.set_attribute('points_per_second', '1500')\n",
    "transform_radar = carla.Transform(carla.Location(x=2.0, y=0.0, z=2.0))\n",
    "radar = world.spawn_actor(blueprint_radar, transform_radar, attach_to=ego_vehicle)"
   ]
  },
  {
   "cell_type": "code",
   "execution_count": null,
   "metadata": {
    "vscode": {
     "languageId": "python"
    }
   },
   "outputs": [],
   "source": [
    "# Activate semantic segmentation camera to ego vehicle\n",
    "sem_bp = world.get_blueprint_library().find('sensor.camera.semantic_segmentation')\n",
    "sem_bp.set_attribute('role_name', 'semantic_segmentation_front')\n",
    "sem_bp.set_attribute(\"image_size_x\", '400')\n",
    "sem_bp.set_attribute(\"image_size_y\", '70')\n",
    "sem_bp.set_attribute(\"sensor_tick\", '0.1')\n",
    "sem_bp.set_attribute(\"fov\", '90')\n",
    "sem_location = carla.Location(x=+2.0, y=0.0, z=2.0)\n",
    "sem_transform = carla.Transform(sem_location)\n",
    "sem_cam = world.spawn_actor(sem_bp, sem_transform, attach_to=ego_vehicle, attachment_type=carla.AttachmentType.Rigid)\n"
   ]
  },
  {
   "cell_type": "code",
   "execution_count": null,
   "metadata": {
    "vscode": {
     "languageId": "python"
    }
   },
   "outputs": [],
   "source": [
    "depth_bp = world.get_blueprint_library().find('sensor.camera.depth')\n",
    "depth_bp.set_attribute('role_name', 'depth_front')\n",
    "depth_bp.set_attribute(\"image_size_x\", '400')\n",
    "depth_bp.set_attribute(\"image_size_y\", '70')\n",
    "depth_bp.set_attribute(\"sensor_tick\", '0.1')\n",
    "depth_bp.set_attribute(\"fov\", '90')\n",
    "depth_location = carla.Location(x=+2.0, y=0.0, z=2.0)\n",
    "depth_transform = carla.Transform(depth_location)\n",
    "depth_cam = world.spawn_actor(depth_bp, depth_transform, attach_to=ego_vehicle, attachment_type=carla.AttachmentType.Rigid)"
   ]
  },
  {
   "cell_type": "code",
   "execution_count": null,
   "metadata": {
    "vscode": {
     "languageId": "python"
    }
   },
   "outputs": [],
   "source": [
    "# Use world.wait_for_tick() for sync mode with carla_ros_bridge\n",
    "if config[\"ros_bridge_sync_mode\"]:\n",
    "    _ = world.wait_for_tick()\n",
    "else:\n",
    "    world.tick()"
   ]
  },
  {
   "cell_type": "code",
   "execution_count": null,
   "metadata": {
    "vscode": {
     "languageId": "python"
    }
   },
   "outputs": [],
   "source": [
    "def get_actor_blueprints(world, filter, generation):\n",
    "    bps = world.get_blueprint_library().filter(filter)\n",
    "\n",
    "    if generation.lower() == \"all\":\n",
    "        return bps\n",
    "\n",
    "    # If the filter returns only one bp, we assume that this one needed\n",
    "    # and therefore, we ignore the generation.\n",
    "    if len(bps) == 1:\n",
    "        return bps\n",
    "\n",
    "    try:\n",
    "        int_generation = int(generation)\n",
    "        # Check if generation is in available generations.\n",
    "        if int_generation in [1, 2]:\n",
    "            bps = [x for x in bps if int(x.get_attribute('generation')) == int_generation]\n",
    "            return bps\n",
    "        else:\n",
    "            print(\"   Warning! Actor Generation is not valid. No actor will be spawned.\")\n",
    "            return []\n",
    "    except Exception as e:\n",
    "        print(e)\n",
    "        print(\"   Warning! Actor Generation is not valid. No actor will be spawned.\")\n",
    "        return []"
   ]
  },
  {
   "cell_type": "code",
   "execution_count": null,
   "metadata": {
    "vscode": {
     "languageId": "python"
    }
   },
   "outputs": [],
   "source": [
    "def spawn_npcs(args_number_of_vehicles = 50, args_number_of_walkers = 70, args_car_lights_on = False):\n",
    "    vehicles_list = []\n",
    "    walkers_list = []\n",
    "    all_id = []\n",
    "\n",
    "    # setup traffic manager\n",
    "    traffic_manager = client.get_trafficmanager(8001)\n",
    "    traffic_manager.set_global_distance_to_leading_vehicle(2.5)\n",
    "\n",
    "    traffic_manager.set_hybrid_physics_mode(True)\n",
    "    traffic_manager.set_hybrid_physics_radius(70.0)\n",
    "\n",
    "    # world settings\n",
    "    settings = world.get_settings()\n",
    "    synchronous_master = False\n",
    "\n",
    "    traffic_manager.set_synchronous_mode(True)\n",
    "    if not settings.synchronous_mode:\n",
    "        synchronous_master = True\n",
    "        settings.synchronous_mode = True\n",
    "        settings.fixed_delta_seconds = 0.05\n",
    "\n",
    "    world.apply_settings(settings)\n",
    "    blueprints = get_actor_blueprints(world, 'vehicle.*', 'All')\n",
    "    blueprintsWalkers = get_actor_blueprints(world, 'walker.pedestrian.*', 'All')\n",
    "    blueprints = sorted(blueprints, key=lambda bp: bp.id)\n",
    "\n",
    "    # Fetch spawn points.\n",
    "    spawn_points = world.get_map().get_spawn_points()\n",
    "    number_of_spawn_points = len(spawn_points)\n",
    "\n",
    "    if args_number_of_vehicles < number_of_spawn_points:\n",
    "        random.shuffle(spawn_points)\n",
    "    elif args_number_of_vehicles > number_of_spawn_points:\n",
    "        msg = 'requested %d vehicles, but could only find %d spawn points'\n",
    "        print(msg, args_number_of_vehicles, number_of_spawn_points)\n",
    "        args_number_of_vehicles = number_of_spawn_points\n",
    "    \n",
    "    SpawnActor = carla.command.SpawnActor\n",
    "    SetAutopilot = carla.command.SetAutopilot\n",
    "    FutureActor = carla.command.FutureActor\n",
    "\n",
    "    # --------------\n",
    "    # Spawn vehicles\n",
    "    # --------------\n",
    "    batch = []\n",
    "    hero = False\n",
    "    for n, transform in enumerate(spawn_points):\n",
    "        if n >= args_number_of_vehicles:\n",
    "            break\n",
    "        blueprint = random.choice(blueprints)\n",
    "        if blueprint.has_attribute('color'):\n",
    "            color = random.choice(blueprint.get_attribute('color').recommended_values)\n",
    "            blueprint.set_attribute('color', color)\n",
    "        if blueprint.has_attribute('driver_id'):\n",
    "            driver_id = random.choice(blueprint.get_attribute('driver_id').recommended_values)\n",
    "            blueprint.set_attribute('driver_id', driver_id)\n",
    "        if hero:\n",
    "            blueprint.set_attribute('role_name', 'hero')\n",
    "            hero = False\n",
    "        else:\n",
    "            blueprint.set_attribute('role_name', 'autopilot')\n",
    "\n",
    "        # Spawn the cars and set their autopilot and light state all together.\n",
    "        batch.append(SpawnActor(blueprint, transform)\n",
    "            .then(SetAutopilot(FutureActor, True, traffic_manager.get_port())))\n",
    "\n",
    "    for response in client.apply_batch_sync(batch, synchronous_master):\n",
    "        if response.error:\n",
    "            print(response.error)\n",
    "        else:\n",
    "            vehicles_list.append(response.actor_id)\n",
    "\n",
    "    # Set automatic vehicle lights update if specified.\n",
    "    if args_car_lights_on:\n",
    "        all_vehicle_actors = world.get_actors(vehicles_list)\n",
    "        for actor in all_vehicle_actors:\n",
    "            traffic_manager.update_vehicle_lights(actor, True)\n",
    "    \n",
    "    # -------------\n",
    "    # Spawn Walkers\n",
    "    # -------------\n",
    "    # some settings\n",
    "    percentagePedestriansRunning = 0.0      # How many pedestrians will run.\n",
    "    percentagePedestriansCrossing = 0.0     # How many pedestrians will walk through the road.\n",
    "    \n",
    "    random.seed(0)\n",
    "    \n",
    "    # 1. Take all the random locations to spawn.\n",
    "    spawn_points = []\n",
    "    for i in range(args_number_of_walkers):\n",
    "        spawn_point = carla.Transform()\n",
    "        loc = world.get_random_location_from_navigation()\n",
    "        if (loc != None):\n",
    "            spawn_point.location = loc\n",
    "            spawn_points.append(spawn_point)\n",
    "    # 2. We spawn the walker object.\n",
    "    batch = []\n",
    "    walker_speed = []\n",
    "    for spawn_point in spawn_points:\n",
    "        walker_bp = random.choice(blueprintsWalkers)\n",
    "        # set as not invincible\n",
    "        if walker_bp.has_attribute('is_invincible'):\n",
    "            walker_bp.set_attribute('is_invincible', 'false')\n",
    "        # set the max speed\n",
    "        if walker_bp.has_attribute('speed'):\n",
    "            if (random.random() > percentagePedestriansRunning):\n",
    "                # walking\n",
    "                walker_speed.append(walker_bp.get_attribute('speed').recommended_values[1])\n",
    "            else:\n",
    "                # running\n",
    "                walker_speed.append(walker_bp.get_attribute('speed').recommended_values[2])\n",
    "        else:\n",
    "            print(\"Walker has no speed\")\n",
    "            walker_speed.append(0.0)\n",
    "        batch.append(SpawnActor(walker_bp, spawn_point))\n",
    "    results = client.apply_batch_sync(batch, True)\n",
    "    walker_speed2 = []\n",
    "    for i in range(len(results)):\n",
    "        if results[i].error:\n",
    "            print(results[i].error)\n",
    "        else:\n",
    "            walkers_list.append({\"id\": results[i].actor_id})\n",
    "            walker_speed2.append(walker_speed[i])\n",
    "    walker_speed = walker_speed2\n",
    "    \n",
    "    # 3. We spawn the walker controller.\n",
    "    batch = []\n",
    "    walker_controller_bp = world.get_blueprint_library().find('controller.ai.walker')\n",
    "    for i in range(len(walkers_list)):\n",
    "        batch.append(SpawnActor(walker_controller_bp, carla.Transform(), walkers_list[i][\"id\"]))\n",
    "    results = client.apply_batch_sync(batch, True)\n",
    "    for i in range(len(results)):\n",
    "        if results[i].error:\n",
    "            print(results[i].error)\n",
    "        else:\n",
    "            walkers_list[i][\"con\"] = results[i].actor_id\n",
    "    \n",
    "    # 4. We put together the walkers and controllers id to get the objects from their id.\n",
    "    for i in range(len(walkers_list)):\n",
    "        all_id.append(walkers_list[i][\"con\"])\n",
    "        all_id.append(walkers_list[i][\"id\"])\n",
    "    all_actors = world.get_actors(all_id)\n",
    "    \n",
    "    # Wait for a tick to ensure client receives the last transform of the walkers we have just created.\n",
    "    # use world.wait_for_tick() when using with carla_ros_bridge sync mode\n",
    "    if config[\"ros_bridge_sync_mode\"]:\n",
    "        _ = world.wait_for_tick()\n",
    "        proxy.tick()\n",
    "    else:\n",
    "        world.tick()\n",
    "        proxy.tick()\n",
    "    \n",
    "    # 5. Initialize each controller and set target to walk to (list is [controler, actor, controller, actor ...]).\n",
    "    # Set how many pedestrians can cross the road.\n",
    "    world.set_pedestrians_cross_factor(percentagePedestriansCrossing)\n",
    "    for i in range(0, len(all_id), 2):\n",
    "        # start walker\n",
    "        all_actors[i].start()\n",
    "        # set walk to random point\n",
    "        all_actors[i].go_to_location(world.get_random_location_from_navigation())\n",
    "        # max speed\n",
    "        all_actors[i].set_max_speed(float(walker_speed[int(i/2)]))\n",
    "    \n",
    "    print('spawned %d vehicles and %d walkers, press Ctrl+C to exit.' % (len(vehicles_list), len(walkers_list)))\n",
    "    \n",
    "    # Example of how to use Traffic Manager parameters.\n",
    "    traffic_manager.global_percentage_speed_difference(30.0)"
   ]
  },
  {
   "cell_type": "code",
   "execution_count": null,
   "metadata": {
    "vscode": {
     "languageId": "python"
    }
   },
   "outputs": [],
   "source": [
    "# spawn npcs\n",
    "if config[\"traffic_simulation\"]:\n",
    "    spawn_npcs()"
   ]
  },
  {
   "cell_type": "code",
   "execution_count": null,
   "metadata": {
    "vscode": {
     "languageId": "python"
    }
   },
   "outputs": [],
   "source": [
    "print(\"Ego-vehicle created!\")"
   ]
  },
  {
   "cell_type": "code",
   "execution_count": null,
   "metadata": {
    "vscode": {
     "languageId": "python"
    }
   },
   "outputs": [],
   "source": [
    "import threading\n",
    "\n",
    "def monitor_carla():\n",
    "    while True:\n",
    "        try:\n",
    "            world.wait_for_tick()\n",
    "            carla_status.layout = widgets.Layout(border= '4px solid green');\n",
    "            carla_status.clear_output(wait=True)\n",
    "            with carla_status:\n",
    "                print(\"CARLA Server is running\")\n",
    "            time.sleep(5)\n",
    "        except:\n",
    "            carla_status.layout = widgets.Layout(border= '4px solid red');\n",
    "            carla_status.clear_output(wait=True)\n",
    "            with carla_status:\n",
    "                print(\"CARLA server has died\")\n",
    "            break\n",
    "thd = threading.Thread(target=monitor_carla, daemon=True).start()"
   ]
  }
 ],
 "metadata": {
  "kernelspec": {
   "display_name": "Python 3",
   "language": "python",
   "name": "python3"
  }
 },
 "nbformat": 4,
 "nbformat_minor": 1
}
